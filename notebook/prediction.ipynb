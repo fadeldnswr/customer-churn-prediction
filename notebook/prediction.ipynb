{
 "cells": [
  {
   "cell_type": "markdown",
   "id": "d5bfbea9",
   "metadata": {},
   "source": [
    "### Prediction Notebook"
   ]
  },
  {
   "cell_type": "code",
   "execution_count": 25,
   "id": "6d368e9b",
   "metadata": {},
   "outputs": [],
   "source": [
    "# Import libraries\n",
    "import pickle\n",
    "import pandas as pd\n",
    "import numpy as np\n",
    "import tensorflow as tf\n",
    "\n",
    "from tensorflow.keras.models import load_model"
   ]
  },
  {
   "cell_type": "code",
   "execution_count": 26,
   "id": "45b5e706",
   "metadata": {},
   "outputs": [
    {
     "name": "stderr",
     "output_type": "stream",
     "text": [
      "WARNING:absl:Compiled the loaded model, but the compiled metrics have yet to be built. `model.compile_metrics` will be empty until you train or evaluate the model.\n"
     ]
    }
   ],
   "source": [
    "# Define the file path for the model\n",
    "FILE_PATH = \"C:/MySkill/Data Science/Projects/ann-dl-project/model\"\n",
    "\n",
    "# Load the model\n",
    "model = load_model(f\"{FILE_PATH}/model.h5\")\n",
    "\n",
    "# Load the ohe encoding for the geography feature\n",
    "with open(f\"{FILE_PATH}/ohe_geography.pkl\", \"rb\") as file:\n",
    "  label_encoder_geo = pickle.load(file=file)\n",
    "\n",
    "# Load the gender encoding\n",
    "with open(f\"{FILE_PATH}/label_encoder_gender.pkl\", \"rb\") as file:\n",
    "  gender_encoder = pickle.load(file=file)\n",
    "\n",
    "# Load the scaler file\n",
    "with open(f\"{FILE_PATH}/scaler.pkl\", \"rb\") as file:\n",
    "  scaler = pickle.load(file=file)"
   ]
  },
  {
   "cell_type": "code",
   "execution_count": null,
   "id": "48436184",
   "metadata": {},
   "outputs": [
    {
     "name": "stderr",
     "output_type": "stream",
     "text": [
      "c:\\MySkill\\Data Science\\Projects\\ann-dl-project\\venv\\lib\\site-packages\\sklearn\\utils\\validation.py:2749: UserWarning: X does not have valid feature names, but OneHotEncoder was fitted with feature names\n",
      "  warnings.warn(\n"
     ]
    },
    {
     "data": {
      "text/plain": [
       "array([[-0.53598516,  0.91324755,  0.10479359, -0.69539349, -0.25781119,\n",
       "         0.80843615,  0.64920267,  0.97481699, -0.87683221,  1.00150113,\n",
       "        -0.57946723, -0.57638802]])"
      ]
     },
     "execution_count": 32,
     "metadata": {},
     "output_type": "execute_result"
    }
   ],
   "source": [
    "# Example input data\n",
    "input_data = {\n",
    "  \"CreditScore\": 600,\n",
    "  \"Geography\": \"France\",\n",
    "  \"Gender\": \"Male\",\n",
    "  \"Age\": 40,\n",
    "  \"Tenure\": 3,\n",
    "  \"Balance\": 60000,\n",
    "  \"NumOfProducts\": 2,\n",
    "  \"HasCrCard\": 1,\n",
    "  \"IsActiveMember\": 1,\n",
    "  \"EstimatedSalary\": 50000\n",
    "}\n",
    "\n",
    "# OHE encode the geography feature\n",
    "geo_encoded = label_encoder_geo.transform([[input_data[\"Geography\"]]]).toarray()\n",
    "geo_encoded_df = pd.DataFrame(geo_encoded, columns=label_encoder_geo.get_feature_names_out([\"Geography\"]))\n",
    "\n",
    "# Convert the input data to a DataFrame\n",
    "input_df = pd.DataFrame([input_data])\n",
    "\n",
    "# Encode categorical features\n",
    "input_df[\"Gender\"] = gender_encoder.transform(input_df[\"Gender\"])\n",
    "\n",
    "# Concate the one hot encoded gender with the rest of the input data\n",
    "input_df = pd.concat([input_df.drop(\"Geography\", axis=1), geo_encoded_df], axis=1)\n",
    "\n",
    "# Scale the input data\n",
    "input_df_scaled = scaler.transform(input_df)\n",
    "input_df_scaled # Print the scaled input data"
   ]
  },
  {
   "cell_type": "code",
   "execution_count": 35,
   "id": "814f4650",
   "metadata": {},
   "outputs": [
    {
     "name": "stdout",
     "output_type": "stream",
     "text": [
      "\u001b[1m1/1\u001b[0m \u001b[32m━━━━━━━━━━━━━━━━━━━━\u001b[0m\u001b[37m\u001b[0m \u001b[1m0s\u001b[0m 31ms/step\n",
      "The customer is not likely to churn with probability: 0.97\n"
     ]
    }
   ],
   "source": [
    "# Predict the churn probability\n",
    "prediction = model.predict(input_df_scaled)\n",
    "prediction_probability = prediction[0][0]\n",
    "\n",
    "# Check if the customer is likely to churn\n",
    "if prediction_probability > 0.5:\n",
    "  print(f\"The customer is likely to churn with probability: {prediction_probability:.2f}\")\n",
    "else:\n",
    "  print(f\"The customer is not likely to churn with probability: {1 - prediction_probability:.2f}\")"
   ]
  }
 ],
 "metadata": {
  "kernelspec": {
   "display_name": "venv",
   "language": "python",
   "name": "python3"
  },
  "language_info": {
   "codemirror_mode": {
    "name": "ipython",
    "version": 3
   },
   "file_extension": ".py",
   "mimetype": "text/x-python",
   "name": "python",
   "nbconvert_exporter": "python",
   "pygments_lexer": "ipython3",
   "version": "3.10.5"
  }
 },
 "nbformat": 4,
 "nbformat_minor": 5
}
